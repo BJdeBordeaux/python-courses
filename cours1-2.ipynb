{
 "cells": [
  {
   "cell_type": "code",
   "execution_count": null,
   "metadata": {},
   "outputs": [],
   "source": []
  },
  {
   "cell_type": "code",
   "execution_count": 3,
   "metadata": {},
   "outputs": [
    {
     "name": "stdout",
     "output_type": "stream",
     "text": [
      "hello, world!None\n"
     ]
    }
   ],
   "source": [
    "print(\"hello\", \"world\", sep=\", \", end=\"!\", flush=True)\n",
    "3"
   ]
  },
  {
   "cell_type": "code",
   "execution_count": 4,
   "metadata": {},
   "outputs": [
    {
     "name": "stdout",
     "output_type": "stream",
     "text": [
      "None\n"
     ]
    }
   ],
   "source": [
    "# None != non_initialisé  \n",
    "print(None,)\n"
   ]
  },
  {
   "cell_type": "code",
   "execution_count": 5,
   "metadata": {},
   "outputs": [
    {
     "ename": "NameError",
     "evalue": "name 'y' is not defined",
     "output_type": "error",
     "traceback": [
      "\u001b[0;31m---------------------------------------------------------------------------\u001b[0m",
      "\u001b[0;31mNameError\u001b[0m                                 Traceback (most recent call last)",
      "\u001b[1;32m/home/bj/notebook/python courses/cours1.ipynb Cellule 3\u001b[0m in \u001b[0;36m<cell line: 1>\u001b[0;34m()\u001b[0m\n\u001b[0;32m----> <a href='vscode-notebook-cell:/home/bj/notebook/python%20courses/cours1.ipynb#W2sZmlsZQ%3D%3D?line=0'>1</a>\u001b[0m \u001b[39mprint\u001b[39m(y)\n",
      "\u001b[0;31mNameError\u001b[0m: name 'y' is not defined"
     ]
    }
   ],
   "source": [
    "print(y) # non initialisé"
   ]
  },
  {
   "cell_type": "code",
   "execution_count": 6,
   "metadata": {},
   "outputs": [
    {
     "name": "stdout",
     "output_type": "stream",
     "text": [
      "3\n",
      "4\n",
      "5\n"
     ]
    }
   ],
   "source": [
    "x = 3\n",
    "for i in range(x):\n",
    "    print(x)\n",
    "    x += 1\n",
    "# dans cette boucle, x est incrémenté à chaque itération\n",
    "# mais le test de boucle est fait sur la valeur initiale de x"
   ]
  },
  {
   "cell_type": "code",
   "execution_count": 9,
   "metadata": {},
   "outputs": [
    {
     "name": "stdout",
     "output_type": "stream",
     "text": [
      "i après l'itération: 300\n"
     ]
    }
   ],
   "source": [
    "for i in range(4):\n",
    "    i *= 100\n",
    "print(\"i après l'itération:\", i)\n"
   ]
  },
  {
   "cell_type": "code",
   "execution_count": 10,
   "metadata": {},
   "outputs": [
    {
     "name": "stdout",
     "output_type": "stream",
     "text": [
      "dans f\n",
      "dans la boucle\n",
      "dans la boucle\n",
      "dans la boucle\n"
     ]
    }
   ],
   "source": [
    "def f():\n",
    "    print(\"dans f\")\n",
    "    return 3\n",
    "\n",
    "\n",
    "for _ in range(f()):\n",
    "    print(\"dans la boucle\")\n"
   ]
  },
  {
   "cell_type": "code",
   "execution_count": 8,
   "metadata": {},
   "outputs": [
    {
     "name": "stdout",
     "output_type": "stream",
     "text": [
      "i= 0\n",
      "i= 1\n",
      "i= 2\n",
      "i= 3\n"
     ]
    }
   ],
   "source": [
    "x = 4\n",
    "\n",
    "\n",
    "def f():\n",
    "    # x = x - 1 # erreur: x non initialisé\n",
    "    x - 1\n",
    "    return x\n",
    "\n",
    "\n",
    "for i in range(f()):\n",
    "    print(\"i=\", i)\n"
   ]
  },
  {
   "cell_type": "code",
   "execution_count": 12,
   "metadata": {},
   "outputs": [
    {
     "name": "stdout",
     "output_type": "stream",
     "text": [
      "{'a': 3, 'b': 2}\n"
     ]
    }
   ],
   "source": [
    "dic = {\"a\": 1, \"b\": 2}\n",
    "def g(dic):\n",
    "    dic[\"a\"] = 3\n",
    "    return dic\n",
    "\n",
    "\n",
    "print(g(dic))"
   ]
  },
  {
   "cell_type": "code",
   "execution_count": 11,
   "metadata": {},
   "outputs": [
    {
     "ename": "UnboundLocalError",
     "evalue": "local variable 'N' referenced before assignment",
     "output_type": "error",
     "traceback": [
      "\u001b[0;31m---------------------------------------------------------------------------\u001b[0m",
      "\u001b[0;31mUnboundLocalError\u001b[0m                         Traceback (most recent call last)",
      "\u001b[1;32m/home/bj/notebook/python courses/cours1.ipynb Cellule 9\u001b[0m in \u001b[0;36m<cell line: 8>\u001b[0;34m()\u001b[0m\n\u001b[1;32m      <a href='vscode-notebook-cell:/home/bj/notebook/python%20courses/cours1.ipynb#X11sZmlsZQ%3D%3D?line=5'>6</a>\u001b[0m \t\u001b[39melse\u001b[39;00m:\n\u001b[1;32m      <a href='vscode-notebook-cell:/home/bj/notebook/python%20courses/cours1.ipynb#X11sZmlsZQ%3D%3D?line=6'>7</a>\u001b[0m \t\t\u001b[39mprint\u001b[39m(N)\n\u001b[0;32m----> <a href='vscode-notebook-cell:/home/bj/notebook/python%20courses/cours1.ipynb#X11sZmlsZQ%3D%3D?line=7'>8</a>\u001b[0m h()\n",
      "\u001b[1;32m/home/bj/notebook/python courses/cours1.ipynb Cellule 9\u001b[0m in \u001b[0;36mh\u001b[0;34m()\u001b[0m\n\u001b[1;32m      <a href='vscode-notebook-cell:/home/bj/notebook/python%20courses/cours1.ipynb#X11sZmlsZQ%3D%3D?line=4'>5</a>\u001b[0m \tN \u001b[39m=\u001b[39m \u001b[39m3\u001b[39m\n\u001b[1;32m      <a href='vscode-notebook-cell:/home/bj/notebook/python%20courses/cours1.ipynb#X11sZmlsZQ%3D%3D?line=5'>6</a>\u001b[0m \u001b[39melse\u001b[39;00m:\n\u001b[0;32m----> <a href='vscode-notebook-cell:/home/bj/notebook/python%20courses/cours1.ipynb#X11sZmlsZQ%3D%3D?line=6'>7</a>\u001b[0m \t\u001b[39mprint\u001b[39m(N)\n",
      "\u001b[0;31mUnboundLocalError\u001b[0m: local variable 'N' referenced before assignment"
     ]
    }
   ],
   "source": [
    "# in the bloc, if N is placed at the right of equal sign, it is supposed to be a local variable\n",
    "# affectation => local variable\n",
    "N = 42\n",
    "\n",
    "\n",
    "def h():\n",
    "    if 10 < 10:\n",
    "        N = 3\n",
    "    else:\n",
    "        print(N)\n",
    "\n",
    "\n",
    "h()"
   ]
  },
  {
   "cell_type": "code",
   "execution_count": 15,
   "metadata": {},
   "outputs": [
    {
     "name": "stdout",
     "output_type": "stream",
     "text": [
      "42\n"
     ]
    }
   ],
   "source": [
    "N = 42\n",
    "def h_cor():\n",
    "    global N\n",
    "    if 10 < 10:\n",
    "        N = 3\n",
    "    else:\n",
    "        print(N)\n",
    "\n",
    "\n",
    "h_cor()"
   ]
  },
  {
   "cell_type": "code",
   "execution_count": 16,
   "metadata": {},
   "outputs": [
    {
     "name": "stdout",
     "output_type": "stream",
     "text": [
      "[1, 2, 3]\n"
     ]
    }
   ],
   "source": [
    "# si la collection n'est pas référencée et seulement affectée\n",
    "# alors elle n'est pas modifiée\n",
    "tab = [1, 2, 3]\n",
    "def i_tab(tab):\n",
    "    tab = 'ArithmeticError'\n",
    "    return tab\n",
    "i_tab(tab)\n",
    "print(tab)"
   ]
  },
  {
   "cell_type": "code",
   "execution_count": 18,
   "metadata": {},
   "outputs": [
    {
     "data": {
      "text/plain": [
       "(5, 3)"
      ]
     },
     "execution_count": 18,
     "metadata": {},
     "output_type": "execute_result"
    }
   ],
   "source": [
    "(5, 3, )"
   ]
  },
  {
   "cell_type": "code",
   "execution_count": 19,
   "metadata": {},
   "outputs": [
    {
     "ename": "TypeError",
     "evalue": "unhashable type: 'list'",
     "output_type": "error",
     "traceback": [
      "\u001b[0;31m---------------------------------------------------------------------------\u001b[0m",
      "\u001b[0;31mTypeError\u001b[0m                                 Traceback (most recent call last)",
      "\u001b[1;32m/home/bj/notebook/python courses/cours1.ipynb Cellule 13\u001b[0m in \u001b[0;36m<cell line: 2>\u001b[0;34m()\u001b[0m\n\u001b[1;32m      <a href='vscode-notebook-cell:/home/bj/notebook/python%20courses/cours1.ipynb#X15sZmlsZQ%3D%3D?line=0'>1</a>\u001b[0m \u001b[39m# les éléments d'un ensemble sont non-modifiables\u001b[39;00m\n\u001b[0;32m----> <a href='vscode-notebook-cell:/home/bj/notebook/python%20courses/cours1.ipynb#X15sZmlsZQ%3D%3D?line=1'>2</a>\u001b[0m {[\u001b[39m1\u001b[39m, \u001b[39m2\u001b[39m, \u001b[39m3\u001b[39m], \u001b[39m3\u001b[39m, \u001b[39m4\u001b[39m}\n",
      "\u001b[0;31mTypeError\u001b[0m: unhashable type: 'list'"
     ]
    }
   ],
   "source": [
    "# les éléments d'un ensemble sont non-modifiables\n",
    "{[1, 2, 3], 3, 4}"
   ]
  },
  {
   "cell_type": "code",
   "execution_count": 13,
   "metadata": {},
   "outputs": [
    {
     "name": "stdout",
     "output_type": "stream",
     "text": [
      "3\n"
     ]
    }
   ],
   "source": [
    "# exception et gestion d'erreur\n",
    "class MyError(Exception):\n",
    "    def __init__(self, x, y):\n",
    "        self.x = x\n",
    "        self.y = y\n",
    "\n",
    "    def __str__(self):\n",
    "        return \"{} {}\".format(self.x, self.y)\n",
    "\n",
    "try:\n",
    "    raise MyError(3, 4)\n",
    "    raise ValueError()\n",
    "    raise Exception(\"C'est un exception\")\n",
    "except ValueError:\n",
    "    print(\"C'est une ValueError\")\n",
    "except Exception as e:\n",
    "    print(e.x)"
   ]
  },
  {
   "cell_type": "code",
   "execution_count": 24,
   "metadata": {},
   "outputs": [
    {
     "name": "stdout",
     "output_type": "stream",
     "text": [
      "hello world\n",
      "\n",
      "['hello world\\n', 'yes\\n', 'char3\\n', 'char4']\n"
     ]
    }
   ],
   "source": [
    "# file\n",
    "f = open(\"test.txt\", \"w\")\n",
    "f.write(\"hello world\\nyes\\n\")\n",
    "f.writelines([\"char3\\n\", \"char4\"])\n",
    "f.close()\n",
    "\n",
    "with open(\"test.txt\", \"r\") as f2:\n",
    "    print(f2.readline())\n",
    "with open(\"test.txt\", \"r\") as f2:\n",
    "    print(f2.readlines())"
   ]
  },
  {
   "cell_type": "code",
   "execution_count": 35,
   "metadata": {},
   "outputs": [
    {
     "name": "stdout",
     "output_type": "stream",
     "text": [
      "cours1\n"
     ]
    }
   ],
   "source": [
    "import cours1_module\n",
    "cours1_module.c1()\n",
    "\n",
    "from cours1_module import *"
   ]
  },
  {
   "cell_type": "code",
   "execution_count": 1,
   "metadata": {},
   "outputs": [
    {
     "data": {
      "text/plain": [
       "['yes', 'no', 'idle', 'idle', 'idle']"
      ]
     },
     "execution_count": 1,
     "metadata": {},
     "output_type": "execute_result"
    }
   ],
   "source": [
    "# list compréhension\n",
    "l = [1, 2, 3, 4, 5]\n",
    "['yes' if v == 1 else 'no' if v == 2 else 'idle' for v in l]"
   ]
  },
  {
   "cell_type": "code",
   "execution_count": 3,
   "metadata": {},
   "outputs": [
    {
     "data": {
      "text/plain": [
       "'15'"
      ]
     },
     "execution_count": 3,
     "metadata": {},
     "output_type": "execute_result"
    }
   ],
   "source": [
    "n = input(\" hello \")\n",
    "n"
   ]
  },
  {
   "cell_type": "code",
   "execution_count": null,
   "metadata": {},
   "outputs": [],
   "source": []
  }
 ],
 "metadata": {
  "kernelspec": {
   "display_name": "Python 3.10.4 64-bit",
   "language": "python",
   "name": "python3"
  },
  "language_info": {
   "codemirror_mode": {
    "name": "ipython",
    "version": 3
   },
   "file_extension": ".py",
   "mimetype": "text/x-python",
   "name": "python",
   "nbconvert_exporter": "python",
   "pygments_lexer": "ipython3",
   "version": "3.10.4"
  },
  "orig_nbformat": 4,
  "vscode": {
   "interpreter": {
    "hash": "916dbcbb3f70747c44a77c7bcd40155683ae19c65e1c03b4aa3499c5328201f1"
   }
  }
 },
 "nbformat": 4,
 "nbformat_minor": 2
}
