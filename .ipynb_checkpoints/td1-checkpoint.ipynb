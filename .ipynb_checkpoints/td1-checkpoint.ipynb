{
 "cells": [
  {
   "cell_type": "code",
   "execution_count": 56,
   "metadata": {},
   "outputs": [],
   "source": [
    "import turtle as tr\n",
    "\n",
    "# paramètres généraux\n",
    "precision = 0.001"
   ]
  },
  {
   "cell_type": "code",
   "execution_count": 2,
   "metadata": {},
   "outputs": [
    {
     "name": "stdout",
     "output_type": "stream",
     "text": [
      "Les deux lignes sont identiques\n"
     ]
    }
   ],
   "source": [
    "# EX 1\n",
    "def intersection_2_lignes(a, b, c, d):\n",
    "    ''' \n",
    "    y = ax + b\n",
    "    y = cx + d\n",
    "    '''\n",
    "    if a == c:\n",
    "        if b == d:\n",
    "            print(\"Les deux lignes sont identiques\")\n",
    "            return None\n",
    "        else:\n",
    "            return None\n",
    "    x = (d - b) / (a - c)\n",
    "    y = a * x + b\n",
    "    return x, y\n",
    "assert(intersection_2_lignes(1, 2, 1, 2) == None)\n",
    "assert(intersection_2_lignes(1, 4, 1, 2) == None)\n",
    "assert(intersection_2_lignes(1, 0, -1, 2) == (1, 1))"
   ]
  },
  {
   "cell_type": "code",
   "execution_count": 3,
   "metadata": {},
   "outputs": [],
   "source": [
    "# EX 2\n",
    "def puissance_2():\n",
    "    n = int(input(\"Please enter an integer: \"))\n",
    "    return n ** 2\n"
   ]
  },
  {
   "cell_type": "code",
   "execution_count": 4,
   "metadata": {},
   "outputs": [],
   "source": [
    "# EX 3\n",
    "def somme_n_entiers():\n",
    "    n = int(input(\"Please enter an integer: \"))\n",
    "    res = 0\n",
    "    for i in range(n + 1):\n",
    "        res += i\n",
    "    return res"
   ]
  },
  {
   "cell_type": "code",
   "execution_count": 5,
   "metadata": {},
   "outputs": [
    {
     "name": "stdout",
     "output_type": "stream",
     "text": [
      "intérêt de l'année 1: 20.00\n",
      "intérêt de l'année 2: 20.40\n",
      "intérêt de l'année 3: 20.81\n"
     ]
    }
   ],
   "source": [
    "# EX 4\n",
    "def depot_livret(s: int, t: float, n: int):\n",
    "    for i in range(n):\n",
    "        # intéret = solde * taux / 100\n",
    "        interet = s * t / 100\n",
    "        annee = i+1\n",
    "        print(f\"intérêt de l'année {annee}: {interet:.2f}\")\n",
    "        s += interet\n",
    "    return s\n",
    "assert(depot_livret(1000, 2, 3) - 1000*1.02**3 < precision)\n"
   ]
  },
  {
   "cell_type": "code",
   "execution_count": 7,
   "metadata": {},
   "outputs": [
    {
     "name": "stdout",
     "output_type": "stream",
     "text": [
      "Enter the length of the Rectangle: 5\n",
      "Enter the width of the Rectangle: 6\n"
     ]
    }
   ],
   "source": []
  },
  {
   "cell_type": "code",
   "execution_count": 5,
   "metadata": {},
   "outputs": [],
   "source": [
    "# EX 5\n",
    "def escalier():\n",
    "    n = int(input(\"Enter the number of steps: \"))\n",
    "    # draw Rectangle in Python Turtle\n",
    "    import turtle as tr\n",
    "    t = tr.Turtle()\n",
    "    # longueur par défaut\n",
    "    l = 30\n",
    "    # dessine la terre\n",
    "    t.forward(l) # Forward turtle by l units\n",
    "    for _ in range(n):\n",
    "        t.left(90) # Turn turtle by 90 degree\n",
    "        t.forward(l) # Forward turtle by w units\n",
    "        t.right(90) # Turn turtle by 90 degree\n",
    "        t.forward(l) # Forward turtle by l units\n",
    "        # terminer le dessin\n",
    "    tr.done()"
   ]
  },
  {
   "cell_type": "code",
   "execution_count": 6,
   "metadata": {},
   "outputs": [
    {
     "name": "stdout",
     "output_type": "stream",
     "text": [
      "Enter the number of steps: 5\n"
     ]
    }
   ],
   "source": [
    "escalier()"
   ]
  },
  {
   "cell_type": "code",
   "execution_count": 48,
   "metadata": {},
   "outputs": [],
   "source": [
    "# EX 6\n",
    "def grille():\n",
    "    import turtle as tr\n",
    "    canvas = tr.Screen()\n",
    "    tr.TurtleScreen._RUNNING=True\n",
    "    t = tr.Turtle()\n",
    "    n = int(input(\"Enter the number of lines: \"))\n",
    "    m = int(input(\"Enter the number of columns: \"))\n",
    "    # start position\n",
    "    x_start = t.pos()[0]\n",
    "    y_start = t.pos()[1]\n",
    "    # longueur par défaut\n",
    "    l = 200\n",
    "    # horizontal lines:\n",
    "    for i in range(m+1):\n",
    "        t.forward(l)\n",
    "        t.penup()\n",
    "        t.setx(x_start)\n",
    "        t.sety(y_start+(i+1)*l/m)\n",
    "        t.pendown()\n",
    "    # back to original pos, then rotate 90°\n",
    "    t.penup()\n",
    "    t.setpos(x_start, y_start)\n",
    "    t.left(90)\n",
    "    t.pendown()\n",
    "    # vertical lines:\n",
    "    for i in range(n+1):\n",
    "        t.forward(l)\n",
    "        t.penup()\n",
    "        t.setx(x_start+(i+1)*l/n)\n",
    "        t.sety(y_start)\n",
    "        t.pendown()\n",
    "    # terminer le dessin\n",
    "    canvas.exitonclick()"
   ]
  },
  {
   "cell_type": "code",
   "execution_count": 49,
   "metadata": {},
   "outputs": [
    {
     "name": "stdout",
     "output_type": "stream",
     "text": [
      "Enter the number of lines: 5\n",
      "Enter the number of columns: 10\n"
     ]
    }
   ],
   "source": [
    "grille()"
   ]
  },
  {
   "cell_type": "code",
   "execution_count": 53,
   "metadata": {},
   "outputs": [],
   "source": [
    "# EX 7\n",
    "def fibonacci(n: int):\n",
    "    assert(n >= 1)\n",
    "    if n <= 2:\n",
    "        return 1\n",
    "    fn_1 = 1\n",
    "    fn_2 = 1\n",
    "    while(n-2 > 0):\n",
    "        res = fn_1 + fn_2\n",
    "        fn_1 = fn_2\n",
    "        fn_2 = res\n",
    "        n -= 1\n",
    "    return res"
   ]
  },
  {
   "cell_type": "code",
   "execution_count": 68,
   "metadata": {},
   "outputs": [],
   "source": [
    "assert(fibonacci(1)==1)\n",
    "assert(fibonacci(2)==1)\n",
    "assert(fibonacci(3)==2)\n",
    "assert(fibonacci(5)==5)"
   ]
  },
  {
   "cell_type": "code",
   "execution_count": 70,
   "metadata": {},
   "outputs": [],
   "source": []
  },
  {
   "cell_type": "code",
   "execution_count": 74,
   "metadata": {
    "scrolled": true
   },
   "outputs": [],
   "source": [
    "# turtle draft\n",
    "canvas = tr.Screen()\n",
    "t = tr.Turtle()\n",
    "tr.TurtleScreen._RUNNING=True\n",
    "t.home()\n",
    "t.position()\n",
    "t.circle(5, 90)\n",
    "canvas.exitonclick()"
   ]
  },
  {
   "cell_type": "code",
   "execution_count": 75,
   "metadata": {},
   "outputs": [],
   "source": [
    "# EX 8 \n",
    "def spirale_fibonacci():\n",
    "    import turtle as tr\n",
    "    canvas = tr.Screen()\n",
    "    tr.TurtleScreen._RUNNING=True\n",
    "    t = tr.Turtle()\n",
    "    n = int(input(\"Enter the number Fn (Fibonacci): \"))\n",
    "    # radius par défaut\n",
    "    r = 5\n",
    "    for i in range(n+1):\n",
    "        t.circle(r*fibonacci(i+1), 90)\n",
    "    # terminer le dessin\n",
    "    canvas.exitonclick()"
   ]
  },
  {
   "cell_type": "code",
   "execution_count": 80,
   "metadata": {},
   "outputs": [
    {
     "name": "stdout",
     "output_type": "stream",
     "text": [
      "Enter the number Fn (Fibonacci): 12\n"
     ]
    }
   ],
   "source": [
    "spirale_fibonacci()"
   ]
  },
  {
   "cell_type": "code",
   "execution_count": null,
   "metadata": {},
   "outputs": [],
   "source": [
    "# EX 9\n"
   ]
  }
 ],
 "metadata": {
  "kernelspec": {
   "display_name": "Python 3 (ipykernel)",
   "language": "python",
   "name": "python3"
  },
  "language_info": {
   "codemirror_mode": {
    "name": "ipython",
    "version": 3
   },
   "file_extension": ".py",
   "mimetype": "text/x-python",
   "name": "python",
   "nbconvert_exporter": "python",
   "pygments_lexer": "ipython3",
   "version": "3.10.4"
  },
  "vscode": {
   "interpreter": {
    "hash": "31f2aee4e71d21fbe5cf8b01ff0e069b9275f58929596ceb00d14d90e3e16cd6"
   }
  }
 },
 "nbformat": 4,
 "nbformat_minor": 2
}
