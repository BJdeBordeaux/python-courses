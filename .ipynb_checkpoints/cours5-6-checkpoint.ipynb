{
 "cells": [
  {
   "cell_type": "markdown",
   "metadata": {},
   "source": [
    "# Cour 5-6"
   ]
  },
  {
   "cell_type": "markdown",
   "metadata": {},
   "source": [
    "## Programmation Orientée Objet"
   ]
  },
  {
   "cell_type": "markdown",
   "metadata": {},
   "source": [
    "`Object` est représenté par un `dict`."
   ]
  },
  {
   "cell_type": "markdown",
   "metadata": {},
   "source": [
    "`Java` : var statique, method dynamique (params résolu au moment où il est appelé)  \n",
    "`C++` : tout statique  \n",
    "`Python` : tout dynamique  "
   ]
  },
  {
   "cell_type": "markdown",
   "metadata": {},
   "source": [
    "### base"
   ]
  },
  {
   "cell_type": "code",
   "execution_count": 13,
   "metadata": {},
   "outputs": [
    {
     "name": "stdout",
     "output_type": "stream",
     "text": [
      "nbv++\n",
      "5.0\n",
      "1\n",
      "nbv++\n",
      "13.0\n",
      "2\n"
     ]
    }
   ],
   "source": [
    "# création d'une classe Vecteur\n",
    "from math import sqrt\n",
    "\n",
    "\n",
    "class Vecteur:\n",
    "    nb_v = 0\n",
    "    # static method\n",
    "    @staticmethod\n",
    "    def nb_vecteurs():\n",
    "        return Vecteur.nb_v\n",
    "\n",
    "    # constructor\n",
    "    def __init__(self, x, y):\n",
    "        self.x = x\n",
    "        self.y = y\n",
    "        self.__x = None\n",
    "        Vecteur.nb_v += 1\n",
    "        print(\"nbv++\")\n",
    "\n",
    "    # method\n",
    "    def norme(self):\n",
    "        return sqrt(self.x**2 + self.y**2)\n",
    "\n",
    "    # destructor/ finalizer\n",
    "    # à l'appel, GC collecte l'objet\n",
    "    # def __del__(self):\n",
    "    #     print(\"nbv--\")\n",
    "    #     Vecteur.nb_v -= 1\n",
    "\n",
    "class Vecteur3D(Vecteur):\n",
    "    def __init__(self, x, y, z):\n",
    "        super().__init__(x, y)\n",
    "        self.z = z\n",
    "\n",
    "    def norme(self):\n",
    "        return sqrt(super().norme()**2 + self.z**2)\n",
    "\n",
    "\n",
    "# instanciation d'un vecteur\n",
    "v = Vecteur(3, 4)\n",
    "print(v.norme())\n",
    "print(Vecteur.nb_vecteurs())\n",
    "\n",
    "# instanciation d'un vecteur 3D\n",
    "v3 = Vecteur3D(3, 4, 12)\n",
    "print(v3.norme())\n",
    "print(Vecteur.nb_vecteurs())\n"
   ]
  },
  {
   "cell_type": "markdown",
   "metadata": {},
   "source": [
    "`Python` n'a pas de champs `private`, ni garantie/contrôle d'accès."
   ]
  },
  {
   "cell_type": "code",
   "execution_count": 16,
   "metadata": {},
   "outputs": [
    {
     "name": "stdout",
     "output_type": "stream",
     "text": [
      "3\n",
      "None\n",
      "toto\n"
     ]
    }
   ],
   "source": [
    "print(v.x)\n",
    "print(v._Vecteur__x)\n",
    "v.norme = 'toto'\n",
    "print(v.norme)"
   ]
  },
  {
   "cell_type": "markdown",
   "metadata": {},
   "source": [
    "### Class method"
   ]
  },
  {
   "cell_type": "code",
   "execution_count": 21,
   "metadata": {},
   "outputs": [
    {
     "name": "stdout",
     "output_type": "stream",
     "text": [
      "20 20 20 60\n"
     ]
    }
   ],
   "source": [
    "class B:\n",
    "    v = 10\n",
    "\n",
    "    @staticmethod\n",
    "    def g(x):\n",
    "        return x + B.v\n",
    "\n",
    "    @classmethod  # C represente la classe appelante\n",
    "    def h(C, x):\n",
    "        return x + C.v\n",
    "\n",
    "\n",
    "class D(B):\n",
    "    v = 50\n",
    "\n",
    "print(B.g(10), B.h(10), D.g(10), D.h(10))\n"
   ]
  },
  {
   "cell_type": "markdown",
   "metadata": {},
   "source": [
    "### héritage multiple"
   ]
  },
  {
   "cell_type": "code",
   "execution_count": 20,
   "metadata": {},
   "outputs": [
    {
     "name": "stdout",
     "output_type": "stream",
     "text": [
      "C.f\n",
      "A.f\n"
     ]
    },
    {
     "data": {
      "text/plain": [
       "[__main__.C, __main__.A, __main__.B, object]"
      ]
     },
     "execution_count": 20,
     "metadata": {},
     "output_type": "execute_result"
    }
   ],
   "source": [
    "class A:\n",
    "    def f(self):\n",
    "        print('A.f')\n",
    "class B:\n",
    "    def f(self):\n",
    "        print('B.f')\n",
    "\n",
    "class C(A, B):\n",
    "    def f(self):\n",
    "        print('C.f')\n",
    "        super().f()\n",
    "\n",
    "c = C()\n",
    "c.f()\n",
    "C.mro()\n"
   ]
  },
  {
   "cell_type": "markdown",
   "metadata": {},
   "source": [
    "### Abstract Class"
   ]
  },
  {
   "cell_type": "code",
   "execution_count": 22,
   "metadata": {},
   "outputs": [
    {
     "ename": "TypeError",
     "evalue": "Can't instantiate abstract class Graphical with abstract method draw",
     "output_type": "error",
     "traceback": [
      "\u001b[0;31m---------------------------------------------------------------------------\u001b[0m",
      "\u001b[0;31mTypeError\u001b[0m                                 Traceback (most recent call last)",
      "\u001b[1;32m/home/bj/notebook/python courses/cours5-6.ipynb Cellule 14\u001b[0m in \u001b[0;36m<cell line: 19>\u001b[0;34m()\u001b[0m\n\u001b[1;32m     <a href='vscode-notebook-cell:/home/bj/notebook/python%20courses/cours5-6.ipynb#X21sZmlsZQ%3D%3D?line=14'>15</a>\u001b[0m     \u001b[39m@abstractmethod\u001b[39m\n\u001b[1;32m     <a href='vscode-notebook-cell:/home/bj/notebook/python%20courses/cours5-6.ipynb#X21sZmlsZQ%3D%3D?line=15'>16</a>\u001b[0m     \u001b[39mdef\u001b[39;00m \u001b[39mdraw\u001b[39m(\u001b[39mself\u001b[39m):\n\u001b[1;32m     <a href='vscode-notebook-cell:/home/bj/notebook/python%20courses/cours5-6.ipynb#X21sZmlsZQ%3D%3D?line=16'>17</a>\u001b[0m         \u001b[39mpass\u001b[39;00m\n\u001b[0;32m---> <a href='vscode-notebook-cell:/home/bj/notebook/python%20courses/cours5-6.ipynb#X21sZmlsZQ%3D%3D?line=18'>19</a>\u001b[0m p \u001b[39m=\u001b[39m Graphical()\n",
      "\u001b[0;31mTypeError\u001b[0m: Can't instantiate abstract class Graphical with abstract method draw"
     ]
    }
   ],
   "source": [
    "from abc import ABCMeta, abstractmethod\n",
    "\n",
    "\n",
    "class Graphical(metaclass=ABCMeta):\n",
    "    def __init__(self, x=0, y=0, w=0, h=0):\n",
    "        self.x = x\n",
    "        self.y = y\n",
    "        self.width = w\n",
    "        self.heigth = h\n",
    "\n",
    "    def move(self, dx, dy):\n",
    "        self.x += dx\n",
    "        self.y += dy\n",
    "\n",
    "    @abstractmethod\n",
    "    def draw(self):\n",
    "        pass\n",
    "\n",
    "\n",
    "p = Graphical()\n"
   ]
  },
  {
   "cell_type": "code",
   "execution_count": 23,
   "metadata": {},
   "outputs": [
    {
     "name": "stdout",
     "output_type": "stream",
     "text": [
      "Je dessine un cercle \n"
     ]
    }
   ],
   "source": [
    "class Circle(Graphical):\n",
    "    def __init__(self, x, y, r):\n",
    "        self.r = r\n",
    "        super().__init__(x, y, 2 * r, 2 * r)\n",
    "\n",
    "    def draw(self):\n",
    "        print(\"Je dessine un cercle \")\n",
    "        return\n",
    "\n",
    "\n",
    "c = Circle(10, 10, 5)\n",
    "c.draw()\n"
   ]
  },
  {
   "cell_type": "markdown",
   "metadata": {},
   "source": [
    "### Typage"
   ]
  },
  {
   "cell_type": "code",
   "execution_count": 25,
   "metadata": {},
   "outputs": [
    {
     "name": "stdout",
     "output_type": "stream",
     "text": [
      "<class '__main__.Circle'> True\n"
     ]
    }
   ],
   "source": [
    "print(type(c), isinstance(c, Graphical))\n"
   ]
  },
  {
   "cell_type": "markdown",
   "metadata": {},
   "source": [
    "## EXEMPLES DE STRUCTURES ARBORESCENTES <br/>DEFINIES AVEC DES OBJETS"
   ]
  },
  {
   "cell_type": "markdown",
   "metadata": {},
   "source": [
    "### Arbre Binaire"
   ]
  },
  {
   "cell_type": "code",
   "execution_count": 15,
   "metadata": {},
   "outputs": [
    {
     "name": "stdout",
     "output_type": "stream",
     "text": [
      "6 3 True False\n"
     ]
    }
   ],
   "source": [
    "class Noeud:\n",
    "    def __init__(self, v, l, r):\n",
    "        self.left = l\n",
    "        self.value = v\n",
    "        self.right = r\n",
    "\n",
    "\n",
    "def size(a):\n",
    "    if a is None:\n",
    "        return 0\n",
    "    else:\n",
    "        return 1 + size(a.left) + size(a.right)\n",
    "\n",
    "\n",
    "def height(a):\n",
    "    if a is None:\n",
    "        return 0\n",
    "    else:\n",
    "        return 1 + max(height(a.left), height(a.right))\n",
    "\n",
    "\n",
    "def find(e, a):\n",
    "    if a is None:\n",
    "        return False\n",
    "    else:\n",
    "        return a.value == e or find(e, a.left) or find(e, a.right)\n",
    "\n",
    "\n",
    "a = Noeud(\n",
    "    10,\n",
    "    Noeud(2, Noeud(8, None, None), None),\n",
    "    Noeud(5, Noeud(11, None, None), Noeud(3, None, None)),\n",
    ")\n",
    "print(size(a), height(a), find(11, a), find(12, a))\n"
   ]
  },
  {
   "cell_type": "markdown",
   "metadata": {},
   "source": [
    "Mais pas possible de faire `a.size()`"
   ]
  },
  {
   "cell_type": "markdown",
   "metadata": {},
   "source": [
    "### Arbres binaires orientés objets "
   ]
  },
  {
   "cell_type": "code",
   "execution_count": 16,
   "metadata": {},
   "outputs": [
    {
     "name": "stdout",
     "output_type": "stream",
     "text": [
      "5 True False\n"
     ]
    }
   ],
   "source": [
    "from abc import ABC, abstractmethod\n",
    "\n",
    "\n",
    "class BinTree(ABC):\n",
    "    def __init__(self):\n",
    "        pass\n",
    "\n",
    "    @abstractmethod\n",
    "    def size(self):\n",
    "        pass\n",
    "\n",
    "    @abstractmethod\n",
    "    def find(self, v):\n",
    "        pass\n",
    "\n",
    "\n",
    "class Leaf(BinTree):\n",
    "    def __init__(self):\n",
    "        pass\n",
    "\n",
    "    def size(self):\n",
    "        return 0\n",
    "\n",
    "    def find(self, _):\n",
    "        return False\n",
    "\n",
    "\n",
    "class Node(BinTree):\n",
    "    def __init__(self, v, l, r):\n",
    "        self.value = v\n",
    "        self.left = l\n",
    "        self.right = r\n",
    "\n",
    "    def size(self):\n",
    "        return 1 + self.left.size() + self.right.size()\n",
    "\n",
    "    def find(self, v):\n",
    "        return self.value == v or self.left.find(v) or self.right.find(v)\n",
    "\n",
    "\n",
    "b = Node(\n",
    "    10,\n",
    "    Node(2, Leaf(), Leaf()),\n",
    "    Node(5, Node(11, Leaf(), Leaf()), Node(3, Leaf(), Leaf())),\n",
    ")\n",
    "print(b.size(), b.find(11), b.find(12))\n"
   ]
  },
  {
   "cell_type": "markdown",
   "metadata": {},
   "source": [
    "### Arbre N-aire"
   ]
  },
  {
   "cell_type": "code",
   "execution_count": 19,
   "metadata": {},
   "outputs": [
    {
     "name": "stdout",
     "output_type": "stream",
     "text": [
      "6 3 [10, 2, 5, 11, 3, 8]\n"
     ]
    }
   ],
   "source": [
    "from functools import reduce\n",
    "\n",
    "\n",
    "class N:\n",
    "    def __init__(self, v, l):\n",
    "        self.value = v\n",
    "        self.childs = l\n",
    "\n",
    "    def size(self):\n",
    "        return 1 + reduce(lambda acc, x: acc + x.size(), self.childs, 0)\n",
    "\n",
    "    def height(self):\n",
    "        return 1 + reduce(lambda acc, x: max(acc, x.height()), self.childs, 0)\n",
    "\n",
    "    def to_list(self):\n",
    "        # parcours en prefixe\n",
    "        return reduce(lambda acc, a: acc + a.to_list(), self.childs, [self.value])\n",
    "\n",
    "\n",
    "a = N(10, [N(2, []), N(5, [N(11, []), N(3, []), N(8, [])])])\n",
    "\n",
    "print(a.size(), a.height(), a.to_list())\n"
   ]
  },
  {
   "cell_type": "markdown",
   "metadata": {},
   "source": [
    "## Matplotlib"
   ]
  },
  {
   "cell_type": "code",
   "execution_count": 3,
   "metadata": {},
   "outputs": [],
   "source": [
    "from matplotlib import pyplot as plt"
   ]
  },
  {
   "cell_type": "code",
   "execution_count": 6,
   "metadata": {
    "scrolled": false
   },
   "outputs": [
    {
     "name": "stderr",
     "output_type": "stream",
     "text": [
      "No artists with labels found to put in legend.  Note that artists whose label start with an underscore are ignored when legend() is called with no argument.\n"
     ]
    },
    {
     "data": {
      "text/plain": [
       "<Figure size 640x480 with 0 Axes>"
      ]
     },
     "metadata": {},
     "output_type": "display_data"
    }
   ],
   "source": [
    "plt.plot()\n",
    "tx = range(-10, 11)\n",
    "ty = [ x * x for x in tx ]\n",
    "plt.grid()\n",
    "plt.xlabel(\"temps\")\n",
    "plt.ylabel(\"energie\")\n",
    "plt.legend()\n",
    "plt.plot(tx, ty, label='ma courbe', color='red', ls='--', marker='>')\n",
    "plt.savefig(\"image1.png\")\n",
    "plt.clf()"
   ]
  },
  {
   "cell_type": "markdown",
   "metadata": {},
   "source": []
  }
 ],
 "metadata": {
  "kernelspec": {
   "display_name": "Python 3 (ipykernel)",
   "language": "python",
   "name": "python3"
  },
  "language_info": {
   "codemirror_mode": {
    "name": "ipython",
    "version": 3
   },
   "file_extension": ".py",
   "mimetype": "text/x-python",
   "name": "python",
   "nbconvert_exporter": "python",
   "pygments_lexer": "ipython3",
   "version": "3.10.4"
  },
  "vscode": {
   "interpreter": {
    "hash": "beb4f305451b4835b36a63cb1c75e625a7251cf8d76b65be2f5856eee68cb551"
   }
  }
 },
 "nbformat": 4,
 "nbformat_minor": 2
}
