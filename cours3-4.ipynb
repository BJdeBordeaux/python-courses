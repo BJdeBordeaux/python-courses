{
 "cells": [
  {
   "cell_type": "markdown",
   "metadata": {},
   "source": [
    "# Note"
   ]
  },
  {
   "cell_type": "markdown",
   "metadata": {},
   "source": [
    "## programmation fonctionnelle vs impérative"
   ]
  },
  {
   "cell_type": "markdown",
   "metadata": {},
   "source": [
    " * variable non modifiable, structures des données persistantes\n",
    " * donc pas de boucle\n",
    " * pour calculer, on utilise seulement des fonctions\\\n",
    " mais aussi\n",
    " * fonction d'ordre supérieur\n",
    " * fonction anonyme\n",
    " * fermeture\n",
    " * application partielle"
   ]
  },
  {
   "cell_type": "markdown",
   "metadata": {},
   "source": [
    "\n",
    ">example : somme de 1 à 10 et somme d'un tableau"
   ]
  },
  {
   "cell_type": "code",
   "execution_count": 4,
   "metadata": {},
   "outputs": [],
   "source": [
    "def somme(i):\n",
    "    if i == 10:\n",
    "        return i\n",
    "    return i + somme(i + 1)\n"
   ]
  },
  {
   "cell_type": "code",
   "execution_count": null,
   "metadata": {},
   "outputs": [],
   "source": [
    "def somme_tab(t):\n",
    "    def boucle(i, v):\n",
    "        if i == len(t):\n",
    "            return v\n",
    "        return boucle(i + 1, v + t[i])\n",
    "\n",
    "    return boucle(0, 0)\n"
   ]
  },
  {
   "cell_type": "markdown",
   "metadata": {},
   "source": [
    "## fonction anonyme"
   ]
  },
  {
   "cell_type": "code",
   "execution_count": 5,
   "metadata": {},
   "outputs": [],
   "source": [
    "def f(x):\n",
    "    return x + 1\n",
    "\n",
    "\n",
    "f = lambda x: x + 1\n"
   ]
  },
  {
   "cell_type": "code",
   "execution_count": 6,
   "metadata": {},
   "outputs": [],
   "source": [
    "def g(x, y):\n",
    "    return x + y\n",
    "\n",
    "\n",
    "g = lambda x, y: x + y\n"
   ]
  },
  {
   "cell_type": "code",
   "execution_count": 8,
   "metadata": {},
   "outputs": [
    {
     "data": {
      "text/plain": [
       "225"
      ]
     },
     "execution_count": 8,
     "metadata": {},
     "output_type": "execute_result"
    }
   ],
   "source": [
    "def somme(f, n):\n",
    "    if n <= 0:\n",
    "        return 0\n",
    "    else:\n",
    "        return f(n) + somme(f, n - 1)\n",
    "\n",
    "\n",
    "somme(lambda x: x * x * x, 5)\n"
   ]
  },
  {
   "cell_type": "markdown",
   "metadata": {},
   "source": [
    "## fonction comme argument"
   ]
  },
  {
   "cell_type": "code",
   "execution_count": 9,
   "metadata": {},
   "outputs": [
    {
     "data": {
      "text/plain": [
       "24"
      ]
     },
     "execution_count": 9,
     "metadata": {},
     "output_type": "execute_result"
    }
   ],
   "source": [
    "def calcul(op, t):\n",
    "    def boucle(i, v):\n",
    "        if i == len(t):\n",
    "            return v\n",
    "        else:\n",
    "            return boucle(i + 1, op(t[i], v))\n",
    "\n",
    "    return boucle(1, t[0])\n",
    "\n",
    "\n",
    "calcul(lambda x, y: x * y, [1, 2, 3, 4])\n"
   ]
  },
  {
   "cell_type": "markdown",
   "metadata": {},
   "source": [
    "## fonction comme résultat"
   ]
  },
  {
   "cell_type": "code",
   "execution_count": 10,
   "metadata": {},
   "outputs": [
    {
     "data": {
      "text/plain": [
       "0.9999999999999983"
      ]
     },
     "execution_count": 10,
     "metadata": {},
     "output_type": "execute_result"
    }
   ],
   "source": [
    "import math\n",
    "\n",
    "\n",
    "def derive(f):\n",
    "    h = 1e-7\n",
    "    return lambda x: (f(x + h) - f(x)) / h\n",
    "\n",
    "\n",
    "d = derive(math.sin)\n",
    "d(0)\n"
   ]
  },
  {
   "cell_type": "markdown",
   "metadata": {},
   "source": [
    "## fonction à plusieur argument"
   ]
  },
  {
   "cell_type": "code",
   "execution_count": 16,
   "metadata": {},
   "outputs": [
    {
     "name": "stdout",
     "output_type": "stream",
     "text": [
      "3\n",
      "3\n",
      "3\n"
     ]
    }
   ],
   "source": [
    "f = lambda x, y: x + y\n",
    "print(f(1, 2))\n",
    "\n",
    "g = lambda p: p[0] + p[1]\n",
    "print(g((1, 2)))\n",
    "\n",
    "# application partielle\n",
    "h = lambda x: lambda y: x + y\n",
    "print(h(1)(2))\n"
   ]
  },
  {
   "cell_type": "markdown",
   "metadata": {},
   "source": [
    "## application partielle"
   ]
  },
  {
   "cell_type": "code",
   "execution_count": 17,
   "metadata": {},
   "outputs": [],
   "source": [
    "h5 = h(5)\n"
   ]
  },
  {
   "cell_type": "code",
   "execution_count": 19,
   "metadata": {},
   "outputs": [
    {
     "name": "stdout",
     "output_type": "stream",
     "text": [
      "7 7\n"
     ]
    }
   ],
   "source": [
    "print(h5(2), h(5)(2))\n"
   ]
  },
  {
   "cell_type": "markdown",
   "metadata": {},
   "source": [
    "`h` pointe vers une fonction `x -> (y -> x+y)`\n",
    "`h5` point vers `(h, self)`, où `self` est un petit environnement (état interne). Dans cet env, `self.x` = 5"
   ]
  },
  {
   "cell_type": "markdown",
   "metadata": {},
   "source": [
    "> Une fermeture est une sorte de paire, avec une composante qui représente l’adresse mémoire du corps de la fonction, et une autre qui pointe sur l’environnement des variables libres."
   ]
  },
  {
   "cell_type": "code",
   "execution_count": 20,
   "metadata": {},
   "outputs": [
    {
     "data": {
      "text/plain": [
       "9"
      ]
     },
     "execution_count": 20,
     "metadata": {},
     "output_type": "execute_result"
    }
   ],
   "source": [
    "def plus(x):\n",
    "    def fermeture(y):\n",
    "        return x + y\n",
    "\n",
    "    return fermeture\n",
    "\n",
    "\n",
    "h = plus(5)\n",
    "h(4)\n"
   ]
  },
  {
   "cell_type": "markdown",
   "metadata": {},
   "source": [
    "## récursion sans récursion"
   ]
  },
  {
   "cell_type": "markdown",
   "metadata": {},
   "source": [
    "Mathématiquement, c'est `v=(1,v)`\n",
    "en info, c'est `f1 = f1 -> int`"
   ]
  },
  {
   "cell_type": "code",
   "execution_count": 6,
   "metadata": {},
   "outputs": [
    {
     "data": {
      "text/plain": [
       "15"
      ]
     },
     "execution_count": 6,
     "metadata": {},
     "output_type": "execute_result"
    }
   ],
   "source": [
    "def ff(suite, x):\n",
    "    if x == 0:\n",
    "        return 0\n",
    "    else:\n",
    "        return x + suite(suite, x - 1)\n",
    "\n",
    "\n",
    "f = lambda x: ff(ff, x)\n",
    "def f(x):\n",
    "    return ff(ff, x)\n",
    "\n",
    "# égal à\n",
    "f = lambda x: (lambda f, y: 0 if y == 0 else y + f(f, y - 1))(\n",
    "    lambda f, y: 0 if y == 0 else y + f(f, y - 1), x\n",
    ")\n",
    "\n",
    "f(5)\n"
   ]
  },
  {
   "cell_type": "markdown",
   "metadata": {},
   "source": [
    "## Itérateur"
   ]
  },
  {
   "cell_type": "markdown",
   "metadata": {},
   "source": [
    "permet de \n",
    "* parcourir une structure de données\n",
    "* réaliser un calcul\n",
    "\n",
    "nécessaire quand la structure de données est abstraire\n",
    "\n",
    "Ici, <strong>éviter</strong> les fonctions récursives"
   ]
  },
  {
   "cell_type": "markdown",
   "metadata": {},
   "source": [
    "`map(f, [e1, e2, ...]) = [f(e1), f(e2), ...]`\\\n",
    "`reduce(f, [e1, e2, ...]) = f(  f( f(e1), e2 ),  ...)`\\\n",
    "`reduce(f, [e1, e2, ...], v) = f(  f( f(v, e1), e2 ),  ...)`\\\n",
    "donc \\\n",
    "> `reduce(f, [e2, e3, ...], e1) = reduce(f, [e1, e2, ...])`\\ \n",
    ">\n",
    "`filter(f, [e1, e2, ...]) = [e_i...] si f(e_i) = True\\`\n"
   ]
  },
  {
   "cell_type": "code",
   "execution_count": null,
   "metadata": {},
   "outputs": [],
   "source": [
    "from functools import reduce"
   ]
  },
  {
   "cell_type": "code",
   "execution_count": 4,
   "metadata": {},
   "outputs": [],
   "source": [
    "\n",
    "\n",
    "# Le nombre d’´el´ements dans une liste de listes :\n",
    "def nb_elem_list_list(l):\n",
    "    return reduce(lambda acc, s: reduce(lambda nb, x: 1 + nb, s, acc), l, 0)\n",
    "\n",
    "\n",
    "# Calcul de la liste des sous-listes d’une liste :\n",
    "def sous_listes(l):\n",
    "    return reduce(lambda p, x: list(map(lambda k: k + [x], p)) + p, l, [[]])\n"
   ]
  },
  {
   "cell_type": "markdown",
   "metadata": {},
   "source": [
    "## structure de données immutable"
   ]
  },
  {
   "cell_type": "markdown",
   "metadata": {},
   "source": [
    "### transparence référentielle\n",
    "> Quand on applique deux fois la mˆeme fonction aux mêmes arguments, alors on obtient le mˆeme r´esultat.\n",
    ">\n",
    "Importante propriété pour programmation fontionnelle"
   ]
  },
  {
   "cell_type": "markdown",
   "metadata": {},
   "source": [
    "## Maximal nombre de partage\n",
    "En r´ealit´e, on peut profiter de l’immuabilit´e d’une structure pour\n",
    "r´ealiser un maximum de partage quand on construit une nouvelle\n",
    "structure (pensez par exemple `a l’ajout d’un ´el´ement dans un arbre)\n",
    "Donc efficace que les var modifiables"
   ]
  },
  {
   "cell_type": "markdown",
   "metadata": {},
   "source": [
    "## Nombre variable d'arguments"
   ]
  },
  {
   "cell_type": "code",
   "execution_count": 10,
   "metadata": {},
   "outputs": [
    {
     "name": "stdout",
     "output_type": "stream",
     "text": [
      "15 55\n"
     ]
    },
    {
     "data": {
      "text/plain": [
       "6"
      ]
     },
     "execution_count": 10,
     "metadata": {},
     "output_type": "execute_result"
    }
   ],
   "source": [
    "def somme(*params):\n",
    "    cpt = 0\n",
    "    for i in params:\n",
    "        cpt = cpt + i\n",
    "    return cpt\n",
    "\n",
    "\n",
    "print(somme(1, 2, 3, 4, 5), somme(1, 2, 3, 4, 5, 6, 7, 8, 9, 10))\n",
    "\n",
    "# quand \"*\" se trouve dans l'argument, ça va unpacker la liste\n",
    "def somme(a, b, c):\n",
    "    return a + b + c\n",
    "\n",
    "\n",
    "l = (1, 2, 3)\n",
    "\n",
    "\n",
    "somme(*l)\n"
   ]
  },
  {
   "cell_type": "markdown",
   "metadata": {},
   "source": [
    "## décorateur de fonction\n",
    "une fontion qui modifie d'autres fontions\n",
    "\n"
   ]
  },
  {
   "cell_type": "code",
   "execution_count": 12,
   "metadata": {},
   "outputs": [
    {
     "name": "stdout",
     "output_type": "stream",
     "text": [
      "Execution du decorateur \n",
      "debut de la fonction modifiee\n",
      "debut de la fonction modifiee\n",
      "2 0\n"
     ]
    }
   ],
   "source": [
    "def deco(f):\n",
    "    print(\"Execution du decorateur \")\n",
    "\n",
    "    def f_prime(*param):\n",
    "        print(\"debut de la fonction modifiee\")\n",
    "        if param[1] == 0:\n",
    "            return 0\n",
    "        else:\n",
    "            return f(*param)\n",
    "\n",
    "    return f_prime\n",
    "\n",
    "\n",
    "@deco\n",
    "def f(x, y):\n",
    "    return x // y\n",
    "\n",
    "\n",
    "print(f(4, 2), f(4, 0))\n"
   ]
  },
  {
   "cell_type": "code",
   "execution_count": null,
   "metadata": {},
   "outputs": [],
   "source": []
  }
 ],
 "metadata": {
  "kernelspec": {
   "display_name": "Python 3.10.4 64-bit",
   "language": "python",
   "name": "python3"
  },
  "language_info": {
   "codemirror_mode": {
    "name": "ipython",
    "version": 3
   },
   "file_extension": ".py",
   "mimetype": "text/x-python",
   "name": "python",
   "nbconvert_exporter": "python",
   "pygments_lexer": "ipython3",
   "version": "3.10.4"
  },
  "orig_nbformat": 4,
  "vscode": {
   "interpreter": {
    "hash": "916dbcbb3f70747c44a77c7bcd40155683ae19c65e1c03b4aa3499c5328201f1"
   }
  }
 },
 "nbformat": 4,
 "nbformat_minor": 2
}
