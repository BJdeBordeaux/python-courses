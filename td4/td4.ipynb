{
 "cells": [
  {
   "cell_type": "code",
   "execution_count": 41,
   "metadata": {},
   "outputs": [
    {
     "name": "stdout",
     "output_type": "stream",
     "text": [
      "hello world\n"
     ]
    }
   ],
   "source": [
    "from abc import ABC, abstractmethod\n",
    "import sys\n",
    "\n",
    "print(\"hello world\")\n",
    "\n",
    "\n",
    "class Rope(ABC):\n",
    "    def __init__(self, d):\n",
    "        self.length = 0\n",
    "\n",
    "    @abstractmethod\n",
    "    def __getitem__(self, i):\n",
    "        pass\n",
    "\n",
    "    @abstractmethod\n",
    "    def __add__(self, r):\n",
    "        pass\n",
    "\n",
    "    @abstractmethod\n",
    "    def __str__(self):\n",
    "        pass\n"
   ]
  },
  {
   "cell_type": "code",
   "execution_count": 42,
   "metadata": {},
   "outputs": [],
   "source": [
    "class App(Rope):  # Node with left and Right\n",
    "    def __init__(self, left, right):\n",
    "        self.left = left\n",
    "        self.right = right\n",
    "\n",
    "    def __getitem__(self, i):\n",
    "        if isinstance(i, int):\n",
    "            if i <= self.left.size():\n",
    "                return self.left.__getitem__(i)\n",
    "            else:\n",
    "                return self.right.__getitem__(i - self.left.size())\n",
    "        elif isinstance(i, slice):\n",
    "            if i.step is None:\n",
    "                step = 1\n",
    "            else:\n",
    "                step = i.step\n",
    "            if i.start is None:\n",
    "                start = 0\n",
    "            else:\n",
    "                start = i.start\n",
    "            if i.stop is None:\n",
    "                stop = self.size()\n",
    "            else:\n",
    "                stop = i.stop\n",
    "            if start < 0:\n",
    "                start = self.size() + start\n",
    "            if stop < 0:\n",
    "                stop = self.size() + stop\n",
    "            if start > stop:\n",
    "                return \"\"\n",
    "            if step > 0:\n",
    "                if start >= self.left.size():\n",
    "                    return self.right.__getitem__(\n",
    "                        slice(start - self.left.size(), stop - self.left.size(), step)\n",
    "                    )\n",
    "                elif stop <= self.left.size():\n",
    "                    return self.left.__getitem__(slice(start, stop, step))\n",
    "                else:\n",
    "                    return self.left.__getitem__(\n",
    "                        slice(start, self.left.size(), step)\n",
    "                    ) + self.right.__getitem__(slice(0, stop - self.left.size(), step))\n",
    "            else:\n",
    "                if start >= self.left.size():\n",
    "                    return self.right.__getitem__(\n",
    "                        slice(start - self.left.size(), stop - self.left.size(), step)\n",
    "                    )\n",
    "                elif stop <= self.left.size():\n",
    "                    return self.left.__getitem__(slice(start, stop, step))\n",
    "                else:\n",
    "                    return self.right.__getitem__(\n",
    "                        slice(self.right.size() - 1, self.right.size() - stop - 1, step)\n",
    "                    ) + self.left.__getitem__(\n",
    "                        slice(self.left.size() - 1, self.left.size() - start - 1, step)\n",
    "                    )\n",
    "\n",
    "    def __add__(self, r):\n",
    "        rightmost_parent = self.rightmostparent()\n",
    "        # print(\"self = {}, left = {}, right = {}\".format(self, self.left, self.right))\n",
    "        if rightmost_parent.right.size() + r.size() <= 10:\n",
    "            # print(\"change rightmost: {} + {}\".format(rightmost_parent.right, r))\n",
    "            rightmost_parent.right += r\n",
    "            return self\n",
    "        else:\n",
    "            # print(\"new app\")\n",
    "            return App(self, r)\n",
    "\n",
    "    def __str__(self):\n",
    "        return self.left.__str__() + self.right.__str__()\n",
    "\n",
    "    def size(self):\n",
    "        return self.left.size() + self.right.size()\n",
    "\n",
    "    def rightmostparent(self):\n",
    "        if isinstance(self.right, App):\n",
    "            return rightmostparent(self.right)\n",
    "        else:\n",
    "            return self\n"
   ]
  },
  {
   "cell_type": "code",
   "execution_count": 43,
   "metadata": {},
   "outputs": [],
   "source": [
    "class Str(Rope):  # Node with a string\n",
    "    def __init__(self, s):\n",
    "        self.s = s\n",
    "\n",
    "    def __getitem__(self, i):\n",
    "        return self.s[i]\n",
    "\n",
    "    def __add__(self, r):\n",
    "        # print(\"self = {}, r = {}\".format(self, r))\n",
    "        if self.size() + r.size() <= 10:\n",
    "            # print(\"concat str\")\n",
    "            return Str(self.s + r.s)\n",
    "        else:\n",
    "            # print(\"str new app\")\n",
    "            return App(self, r)\n",
    "\n",
    "    def __str__(self):\n",
    "        return self.s\n",
    "\n",
    "    def size(self):\n",
    "        return len(self.s)\n",
    "\n",
    "\n",
    "testStr = Str(\"Hello\")\n",
    "assert testStr[0] == \"H\"\n",
    "assert testStr[1:] == \"ello\"\n",
    "assert testStr[1:3] == \"el\"\n",
    "assert str(testStr + Str(testStr[0])) == \"HelloH\"\n"
   ]
  },
  {
   "cell_type": "code",
   "execution_count": 44,
   "metadata": {},
   "outputs": [],
   "source": [
    "# assert getitem and slice operation\n",
    "r = App(\n",
    "    Str(\"La structure de\"),\n",
    "    App(\n",
    "        App(Str(\"corde per\"), Str(\"met de manipuler\")),\n",
    "        App(Str(\" de grandes \"), Str(\"chaînes\")),\n",
    "    ),\n",
    ")\n",
    "assert(str(r) == \"La structure decorde permet de manipuler de grandes chaînes\")\n",
    "assert(r[6] == \"u\")\n",
    "assert(r[16] == \"o\")\n",
    "assert(str(r[21:54]) == \"permet de manipuler de grandes ch\")"
   ]
  },
  {
   "cell_type": "code",
   "execution_count": 45,
   "metadata": {},
   "outputs": [],
   "source": [
    "# assert concatenation\n",
    "assert(str(Str(\"chai\") + Str(\"ne\")) == \"chaine\")\n",
    "assert(str((Str(\"debut de la \") + Str(\"chai\") + Str(\"ne\")).right) == \"chaine\")"
   ]
  },
  {
   "cell_type": "code",
   "execution_count": null,
   "metadata": {},
   "outputs": [],
   "source": []
  }
 ],
 "metadata": {
  "kernelspec": {
   "display_name": "Python 3.10.4 64-bit",
   "language": "python",
   "name": "python3"
  },
  "language_info": {
   "codemirror_mode": {
    "name": "ipython",
    "version": 3
   },
   "file_extension": ".py",
   "mimetype": "text/x-python",
   "name": "python",
   "nbconvert_exporter": "python",
   "pygments_lexer": "ipython3",
   "version": "3.10.4"
  },
  "orig_nbformat": 4,
  "vscode": {
   "interpreter": {
    "hash": "916dbcbb3f70747c44a77c7bcd40155683ae19c65e1c03b4aa3499c5328201f1"
   }
  }
 },
 "nbformat": 4,
 "nbformat_minor": 2
}
