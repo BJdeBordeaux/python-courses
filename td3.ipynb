{
 "cells": [
  {
   "cell_type": "markdown",
   "metadata": {},
   "source": [
    "# TD 3 Programmation Fonctionnelle"
   ]
  },
  {
   "cell_type": "markdown",
   "metadata": {},
   "source": [
    "## Boucle sans boucle"
   ]
  },
  {
   "cell_type": "code",
   "execution_count": 1,
   "metadata": {},
   "outputs": [],
   "source": [
    "# EX 1\n",
    "\n",
    "\n",
    "def foo_original(x):\n",
    "    i = 0\n",
    "    v = x * x\n",
    "    while i <= v:\n",
    "        v = v - x\n",
    "        i = i + x\n",
    "    return i * v\n",
    "\n",
    "\n",
    "def foo(x):\n",
    "    def boucle(i, v):\n",
    "        if i > v:\n",
    "            return i * v\n",
    "        return boucle(i + x, v - x)\n",
    "\n",
    "    return boucle(0, x**2)\n",
    "\n",
    "\n",
    "assert foo_original(1) == foo(1)\n",
    "assert foo_original(2) == foo(2)\n",
    "assert foo_original(100) == foo(100)\n",
    "# boucle infinie\n",
    "# assert(foo_original(0) == foo(0))\n",
    "# assert(foo_original(-5) == foo(-5))\n"
   ]
  },
  {
   "cell_type": "code",
   "execution_count": 2,
   "metadata": {},
   "outputs": [],
   "source": [
    "def bar_original(x, y):\n",
    "    r = 0\n",
    "    for i in range(0, 10):\n",
    "        r = r + x\n",
    "    for j in range(r, 0, -1):\n",
    "        r = r - y\n",
    "    return r\n",
    "\n",
    "\n",
    "def bar(x, y):\n",
    "    def boucle2(j, r):\n",
    "        if j <= 0:\n",
    "            return r\n",
    "        return boucle2(j - 1, r - y)\n",
    "\n",
    "    def boucle1(i, r):\n",
    "        if i < 10:\n",
    "            return boucle1(i + 1, r + x)\n",
    "        return boucle2(r, r)\n",
    "\n",
    "    return boucle1(0, 0)\n",
    "\n",
    "\n",
    "assert bar_original(1, 1) == bar(1, 1)\n",
    "assert bar_original(2, 2) == bar(2, 2)\n",
    "assert bar_original(100, 100) == bar(100, 100)\n"
   ]
  },
  {
   "cell_type": "markdown",
   "metadata": {},
   "source": [
    "## Ensembles comme des fonctions"
   ]
  },
  {
   "cell_type": "code",
   "execution_count": 5,
   "metadata": {},
   "outputs": [
    {
     "data": {
      "text/plain": [
       "bool"
      ]
     },
     "execution_count": 5,
     "metadata": {},
     "output_type": "execute_result"
    }
   ],
   "source": [
    "# EX 2\n",
    "def car_S2(x: int):\n",
    "    return x % 2 == 0\n",
    "\n",
    "\n",
    "assert car_S2(2) == True\n",
    "assert car_S2(3) == False\n",
    "\n",
    "\n",
    "def car_S3(x: int):\n",
    "    return x in {0, 3, 7, 9}\n",
    "\n",
    "\n",
    "assert car_S3(2) == False\n",
    "assert car_S3(3) == True\n",
    "\n",
    "\n",
    "def car_S4(x: int):\n",
    "    return x >= 10 and x <= 1000\n",
    "\n",
    "\n",
    "assert car_S4(2) == False\n",
    "assert car_S4(3) == False\n",
    "assert car_S4(10) == True\n",
    "assert car_S4(1000) == True\n",
    "assert car_S4(1001) == False\n",
    "\n",
    "\n",
    "def car_S5(x):\n",
    "    return False\n"
   ]
  },
  {
   "cell_type": "code",
   "execution_count": 10,
   "metadata": {},
   "outputs": [],
   "source": [
    "# EX 3\n",
    "def union(car_S1, car_S2):\n",
    "    return lambda x: car_S1(x) or car_S2(x)\n",
    "\n",
    "\n",
    "assert union(car_S2, car_S3)(2) == True\n",
    "assert union(car_S2, car_S3)(3) == True\n",
    "assert union(car_S2, car_S3)(4) == True\n",
    "assert union(car_S2, car_S3)(5) == False\n",
    "assert union(car_S2, car_S3)(100) == True\n",
    "assert union(car_S2, car_S3)(101) == False\n"
   ]
  },
  {
   "cell_type": "code",
   "execution_count": 12,
   "metadata": {},
   "outputs": [],
   "source": [
    "def inter(car_S1, car_S2):\n",
    "    return lambda x: car_S1(x) and car_S2(x)\n",
    "\n",
    "\n",
    "assert inter(car_S2, car_S3)(2) == False\n",
    "assert inter(car_S2, car_S3)(3) == False\n",
    "assert inter(car_S2, car_S3)(0) == True\n",
    "assert inter(car_S2, car_S3)(5) == False\n"
   ]
  },
  {
   "cell_type": "code",
   "execution_count": 13,
   "metadata": {},
   "outputs": [],
   "source": [
    "def ajout(x, car_S):\n",
    "    return lambda y: car_S(y) or x == y\n",
    "\n",
    "\n",
    "assert ajout(2, car_S2)(2) == True\n",
    "assert ajout(2, car_S2)(3) == False\n",
    "assert ajout(2, car_S3)(2) == True\n",
    "assert ajout(10, car_S5)(10) == True\n"
   ]
  },
  {
   "cell_type": "code",
   "execution_count": 14,
   "metadata": {},
   "outputs": [],
   "source": [
    "def ensemble(l):\n",
    "    return lambda x: x in l\n",
    "\n",
    "\n",
    "assert ensemble([1, 2, 3])(1) == True\n",
    "assert ensemble([1, 2, 3])(2) == True\n",
    "assert ensemble([1, 2, 3])(3) == True\n",
    "assert ensemble([1, 2, 3])(4) == False\n",
    "assert ensemble([1, 2, 3])(0) == False\n"
   ]
  },
  {
   "cell_type": "code",
   "execution_count": 25,
   "metadata": {},
   "outputs": [],
   "source": [
    "def fact(n):\n",
    "    def main_fun(suite, x):\n",
    "        # recursive condition\n",
    "        if x <= 1:\n",
    "            return 1\n",
    "        # recursive call\n",
    "        return x * suite(suite , x-1)\n",
    "    return main_fun(main_fun, n)\n",
    "\n",
    "assert fact(0) == 1\n",
    "assert fact(1) == 1\n",
    "assert fact(2) == 2\n",
    "assert fact(3) == 6\n",
    "assert fact(4) == 24\n",
    "assert fact(5) == 120"
   ]
  },
  {
   "cell_type": "markdown",
   "metadata": {},
   "source": [
    "## Programmer avec des itérateurs"
   ]
  },
  {
   "cell_type": "code",
   "execution_count": 2,
   "metadata": {},
   "outputs": [],
   "source": [
    "from functools import reduce"
   ]
  },
  {
   "cell_type": "code",
   "execution_count": 8,
   "metadata": {},
   "outputs": [],
   "source": [
    "def somme_des_carres(l):\n",
    "    return reduce(lambda s, x: s + x, list(map(lambda x: x**2, l)), 0)\n",
    "\n",
    "\n",
    "assert somme_des_carres([1, 2, 3]) == 14\n",
    "assert somme_des_carres([0, -2, 100 * 3]) == (100*3)**2 + 4\n",
    "assert somme_des_carres([]) == 0\n"
   ]
  },
  {
   "cell_type": "code",
   "execution_count": 4,
   "metadata": {},
   "outputs": [],
   "source": [
    "def maximum(l):\n",
    "    assert(len(l) > 0)\n",
    "    return reduce(lambda x, y: x if x > y else y, l)\n",
    "\n",
    "\n",
    "assert maximum([1, 2, 3]) == 3\n",
    "assert maximum([0, -2, 100 * 3]) == 300"
   ]
  },
  {
   "cell_type": "code",
   "execution_count": 5,
   "metadata": {},
   "outputs": [],
   "source": [
    "def fst(l):\n",
    "    # return left element for a list of pairs\n",
    "    return list(map(lambda x: x[0], l))\n",
    "\n",
    "\n",
    "assert fst([(1, 2), (3, 4), (5, 6)]) == [1, 3, 5]\n",
    "assert fst([(-1, 2), (3, -4), (5, 6)]) == [-1, 3, 5]\n",
    "assert fst([]) == []"
   ]
  },
  {
   "cell_type": "code",
   "execution_count": 6,
   "metadata": {},
   "outputs": [],
   "source": [
    "def permute(l):\n",
    "    \"\"\"replace 0 by 1 and 1 by 0\"\"\"\n",
    "    assert len(set(l)) <= 2\n",
    "    return list(map(lambda x: 1 - x, l))\n",
    "\n",
    "\n",
    "assert permute([0, 1, 0, 1]) == [1, 0, 1, 0]\n",
    "assert permute([1, 0, 1, 0]) == [0, 1, 0, 1]\n",
    "assert permute([0, 0, 0, 0]) == [1, 1, 1, 1]\n",
    "assert permute([1, 1, 1, 1]) == [0, 0, 0, 0]\n",
    "assert permute([]) == []\n"
   ]
  },
  {
   "cell_type": "code",
   "execution_count": 7,
   "metadata": {},
   "outputs": [],
   "source": [
    "def compte0(l):\n",
    "    return len(list(filter(lambda x: x == 0, l)))\n",
    "\n",
    "assert compte0([0, 1, 0, 1]) == 2\n",
    "assert compte0([1, 0, 1, 0]) == 2\n",
    "assert compte0([0, 0, 0, 0]) == 4\n",
    "assert compte0([1, 1, 1, 1]) == 0\n",
    "assert compte0([]) == 0"
   ]
  },
  {
   "cell_type": "code",
   "execution_count": 18,
   "metadata": {},
   "outputs": [],
   "source": [
    "def pgs(v, l):\n",
    "    \"\"\"\n",
    "    renvoie la longueur de la plus grande séquence de v dans la liste l.\n",
    "    \"\"\"\n",
    "    return maximum(reduce(lambda l, x: l + [l[-1] + 1] if x == v else l + [0], l, [0]))\n",
    "\n",
    "\n",
    "assert pgs(0, [0, 1, 0, 1]) == 1\n",
    "assert pgs(2, [1, 0, 1, 0, 2]) == 1\n",
    "assert pgs(0, [0, 0, 0, 0]) == 4\n",
    "assert pgs(0, [1, 1, 1, 1]) == 0\n",
    "assert pgs(0, []) == 0\n",
    "assert pgs(0, [0, 0, 1, 1, 0, 0, 0, 1, 0]) == 3\n",
    "assert pgs('a', ['a', 'a', 'b', 'a', 'a', 'a', 'b', 'a', 'a']) == 3\n"
   ]
  },
  {
   "cell_type": "code",
   "execution_count": null,
   "metadata": {},
   "outputs": [],
   "source": []
  }
 ],
 "metadata": {
  "kernelspec": {
   "display_name": "Python 3.10.4 64-bit",
   "language": "python",
   "name": "python3"
  },
  "language_info": {
   "codemirror_mode": {
    "name": "ipython",
    "version": 3
   },
   "file_extension": ".py",
   "mimetype": "text/x-python",
   "name": "python",
   "nbconvert_exporter": "python",
   "pygments_lexer": "ipython3",
   "version": "3.10.4"
  },
  "orig_nbformat": 4,
  "vscode": {
   "interpreter": {
    "hash": "916dbcbb3f70747c44a77c7bcd40155683ae19c65e1c03b4aa3499c5328201f1"
   }
  }
 },
 "nbformat": 4,
 "nbformat_minor": 2
}
