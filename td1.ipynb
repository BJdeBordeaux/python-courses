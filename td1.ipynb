{
 "cells": [
  {
   "cell_type": "code",
   "execution_count": 56,
   "metadata": {},
   "outputs": [],
   "source": [
    "import turtle as tr\n",
    "\n",
    "# paramètres généraux\n",
    "precision = 0.001"
   ]
  },
  {
   "cell_type": "code",
   "execution_count": 2,
   "metadata": {},
   "outputs": [
    {
     "name": "stdout",
     "output_type": "stream",
     "text": [
      "Les deux lignes sont identiques\n"
     ]
    }
   ],
   "source": [
    "# EX 1\n",
    "def intersection_2_lignes(a, b, c, d):\n",
    "    ''' \n",
    "    y = ax + b\n",
    "    y = cx + d\n",
    "    '''\n",
    "    if a == c:\n",
    "        if b == d:\n",
    "            print(\"Les deux lignes sont identiques\")\n",
    "            return None\n",
    "        else:\n",
    "            return None\n",
    "    x = (d - b) / (a - c)\n",
    "    y = a * x + b\n",
    "    return x, y\n",
    "assert(intersection_2_lignes(1, 2, 1, 2) == None)\n",
    "assert(intersection_2_lignes(1, 4, 1, 2) == None)\n",
    "assert(intersection_2_lignes(1, 0, -1, 2) == (1, 1))"
   ]
  },
  {
   "cell_type": "code",
   "execution_count": 3,
   "metadata": {},
   "outputs": [],
   "source": [
    "# EX 2\n",
    "def puissance_2():\n",
    "    n = int(input(\"Please enter an integer: \"))\n",
    "    return n ** 2\n"
   ]
  },
  {
   "cell_type": "code",
   "execution_count": 4,
   "metadata": {},
   "outputs": [],
   "source": [
    "# EX 3\n",
    "def somme_n_entiers():\n",
    "    n = int(input(\"Please enter an integer: \"))\n",
    "    res = 0\n",
    "    for i in range(n + 1):\n",
    "        res += i\n",
    "    return res"
   ]
  },
  {
   "cell_type": "code",
   "execution_count": 5,
   "metadata": {},
   "outputs": [
    {
     "name": "stdout",
     "output_type": "stream",
     "text": [
      "intérêt de l'année 1: 20.00\n",
      "intérêt de l'année 2: 20.40\n",
      "intérêt de l'année 3: 20.81\n"
     ]
    }
   ],
   "source": [
    "# EX 4\n",
    "def depot_livret(s: int, t: float, n: int):\n",
    "    for i in range(n):\n",
    "        # intéret = solde * taux / 100\n",
    "        interet = s * t / 100\n",
    "        annee = i+1\n",
    "        print(f\"intérêt de l'année {annee}: {interet:.2f}\")\n",
    "        s += interet\n",
    "    return s\n",
    "assert(depot_livret(1000, 2, 3) - 1000*1.02**3 < precision)\n"
   ]
  },
  {
   "cell_type": "code",
   "execution_count": 7,
   "metadata": {},
   "outputs": [
    {
     "name": "stdout",
     "output_type": "stream",
     "text": [
      "Enter the length of the Rectangle: 5\n",
      "Enter the width of the Rectangle: 6\n"
     ]
    }
   ],
   "source": []
  },
  {
   "cell_type": "code",
   "execution_count": 5,
   "metadata": {},
   "outputs": [],
   "source": [
    "# EX 5\n",
    "def escalier():\n",
    "    n = int(input(\"Enter the number of steps: \"))\n",
    "    # draw Rectangle in Python Turtle\n",
    "    import turtle as tr\n",
    "    t = tr.Turtle()\n",
    "    # longueur par défaut\n",
    "    l = 30\n",
    "    # dessine la terre\n",
    "    t.forward(l) # Forward turtle by l units\n",
    "    for _ in range(n):\n",
    "        t.left(90) # Turn turtle by 90 degree\n",
    "        t.forward(l) # Forward turtle by w units\n",
    "        t.right(90) # Turn turtle by 90 degree\n",
    "        t.forward(l) # Forward turtle by l units\n",
    "        # terminer le dessin\n",
    "    tr.done()"
   ]
  },
  {
   "cell_type": "code",
   "execution_count": 6,
   "metadata": {},
   "outputs": [
    {
     "name": "stdout",
     "output_type": "stream",
     "text": [
      "Enter the number of steps: 5\n"
     ]
    }
   ],
   "source": [
    "escalier()"
   ]
  },
  {
   "cell_type": "code",
   "execution_count": 48,
   "metadata": {},
   "outputs": [],
   "source": [
    "# EX 6\n",
    "def grille():\n",
    "    import turtle as tr\n",
    "    canvas = tr.Screen()\n",
    "    tr.TurtleScreen._RUNNING=True\n",
    "    t = tr.Turtle()\n",
    "    n = int(input(\"Enter the number of lines: \"))\n",
    "    m = int(input(\"Enter the number of columns: \"))\n",
    "    # start position\n",
    "    x_start = t.pos()[0]\n",
    "    y_start = t.pos()[1]\n",
    "    # longueur par défaut\n",
    "    l = 200\n",
    "    # horizontal lines:\n",
    "    for i in range(m+1):\n",
    "        t.forward(l)\n",
    "        t.penup()\n",
    "        t.setx(x_start)\n",
    "        t.sety(y_start+(i+1)*l/m)\n",
    "        t.pendown()\n",
    "    # back to original pos, then rotate 90°\n",
    "    t.penup()\n",
    "    t.setpos(x_start, y_start)\n",
    "    t.left(90)\n",
    "    t.pendown()\n",
    "    # vertical lines:\n",
    "    for i in range(n+1):\n",
    "        t.forward(l)\n",
    "        t.penup()\n",
    "        t.setx(x_start+(i+1)*l/n)\n",
    "        t.sety(y_start)\n",
    "        t.pendown()\n",
    "    # terminer le dessin\n",
    "    canvas.exitonclick()"
   ]
  },
  {
   "cell_type": "code",
   "execution_count": 49,
   "metadata": {},
   "outputs": [
    {
     "name": "stdout",
     "output_type": "stream",
     "text": [
      "Enter the number of lines: 5\n",
      "Enter the number of columns: 10\n"
     ]
    }
   ],
   "source": [
    "grille()"
   ]
  },
  {
   "cell_type": "code",
   "execution_count": 53,
   "metadata": {},
   "outputs": [],
   "source": [
    "# EX 7\n",
    "def fibonacci(n: int):\n",
    "    assert(n >= 1)\n",
    "    if n <= 2:\n",
    "        return 1\n",
    "    fn_1 = 1\n",
    "    fn_2 = 1\n",
    "    while(n-2 > 0):\n",
    "        res = fn_1 + fn_2\n",
    "        fn_1 = fn_2\n",
    "        fn_2 = res\n",
    "        n -= 1\n",
    "    return res"
   ]
  },
  {
   "cell_type": "code",
   "execution_count": 68,
   "metadata": {},
   "outputs": [],
   "source": [
    "assert(fibonacci(1)==1)\n",
    "assert(fibonacci(2)==1)\n",
    "assert(fibonacci(3)==2)\n",
    "assert(fibonacci(5)==5)"
   ]
  },
  {
   "cell_type": "code",
   "execution_count": 70,
   "metadata": {},
   "outputs": [],
   "source": []
  },
  {
   "cell_type": "code",
   "execution_count": 39,
   "metadata": {
    "scrolled": true
   },
   "outputs": [],
   "source": [
    "# turtle draft\n",
    "canvas = tr.Screen()\n",
    "t = tr.Turtle()\n",
    "tr.TurtleScreen._RUNNING=True\n",
    "t.home()\n",
    "t.position()\n",
    "t.circle(100, 90)\n",
    "canvas.exitonclick()"
   ]
  },
  {
   "cell_type": "code",
   "execution_count": 75,
   "metadata": {},
   "outputs": [],
   "source": [
    "# EX 8 \n",
    "def spirale_fibonacci():\n",
    "    import turtle as tr\n",
    "    canvas = tr.Screen()\n",
    "    tr.TurtleScreen._RUNNING=True\n",
    "    t = tr.Turtle()\n",
    "    n = int(input(\"Enter the number Fn (Fibonacci): \"))\n",
    "    # radius par défaut\n",
    "    r = 5\n",
    "    for i in range(n+1):\n",
    "        t.circle(r*fibonacci(i+1), 90)\n",
    "    # terminer le dessin\n",
    "    canvas.exitonclick()"
   ]
  },
  {
   "cell_type": "code",
   "execution_count": 80,
   "metadata": {},
   "outputs": [
    {
     "name": "stdout",
     "output_type": "stream",
     "text": [
      "Enter the number Fn (Fibonacci): 12\n"
     ]
    }
   ],
   "source": [
    "spirale_fibonacci()"
   ]
  },
  {
   "cell_type": "code",
   "execution_count": 86,
   "metadata": {},
   "outputs": [],
   "source": [
    "# EX 9\n",
    "def diviseurs():\n",
    "    n = int(input(\"Enter a number for its dividers: \"))\n",
    "    res = list()\n",
    "    for i in range(1, n+1):\n",
    "        if n%i == 0:\n",
    "            res.append(i)\n",
    "    return res"
   ]
  },
  {
   "cell_type": "code",
   "execution_count": 88,
   "metadata": {},
   "outputs": [
    {
     "name": "stdout",
     "output_type": "stream",
     "text": [
      "Enter a number for its dividers: 100\n"
     ]
    },
    {
     "data": {
      "text/plain": [
       "[1, 2, 4, 5, 10, 20, 25, 50, 100]"
      ]
     },
     "execution_count": 88,
     "metadata": {},
     "output_type": "execute_result"
    }
   ],
   "source": [
    "diviseurs()"
   ]
  },
  {
   "cell_type": "code",
   "execution_count": 15,
   "metadata": {},
   "outputs": [],
   "source": [
    "# EX 10\n",
    "def billard(x:int=None, y: int=None, dx:int=None, dy: int=None):\n",
    "    # paramètres\n",
    "    longueur = 100\n",
    "    largeur = 50\n",
    "    # position initiale\n",
    "    x = x if x is not None else int(input(\"Enter the initial position of the ball (x): \"))\n",
    "    y = y if y is not None else int(input(\"Enter the initial position of the ball (y): \"))\n",
    "    # vecteur de déplacement\n",
    "    dx = dx if dx is not None else  int(input(\"Enter the displacement vector (dx): \"))\n",
    "    dy = dy if dy is not None else int(input(\"Enter the displacement vector (dy): \"))\n",
    "    # voir si la balle touche le mur sur axe x\n",
    "    assert(dx <= longueur and dx >= -longueur)\n",
    "    assert(dy <= largeur and dy >= -largeur)\n",
    "    if x + dx > longueur or x + dx < 0:\n",
    "        # rebond\n",
    "        if dx > 0:\n",
    "            x = 2*longueur - (x + dx) \n",
    "        else:\n",
    "            x = dx - x\n",
    "    # sinon\n",
    "    else:\n",
    "        x += dx\n",
    "    # voir si la balle touche le mur sur axe y\n",
    "    if y + dy > largeur or y + dy < 0:\n",
    "        # rebond\n",
    "        if dy > 0:\n",
    "            y = 2*largeur - (y + dy)\n",
    "        else:\n",
    "            y = dy - y\n",
    "    # sinon\n",
    "    else:   \n",
    "        y += dy\n",
    "    return (x, y)\n"
   ]
  },
  {
   "cell_type": "code",
   "execution_count": 13,
   "metadata": {},
   "outputs": [],
   "source": [
    "assert(billard(0, 0, 25, 35) == (25, 35))\n",
    "assert(billard(10, 10, 100, 50) == (90,40))"
   ]
  },
  {
   "cell_type": "code",
   "execution_count": 23,
   "metadata": {},
   "outputs": [],
   "source": [
    "# EX 11\n",
    "def equation_second_degre(a, b, c):\n",
    "    delta = b**2 - 4*a*c\n",
    "    if delta < 0:\n",
    "        return None\n",
    "    elif delta == 0:\n",
    "        return {-b/(2*a)}\n",
    "    else:\n",
    "        return {(-b-delta**0.5)/(2*a), (-b+delta**0.5)/(2*a)}\n"
   ]
  },
  {
   "cell_type": "code",
   "execution_count": 27,
   "metadata": {},
   "outputs": [],
   "source": [
    "assert(equation_second_degre(1, 2, 1) == {-1})\n",
    "assert(equation_second_degre(1, 2, 3) == None)\n",
    "assert(equation_second_degre(1, 2, -3) == {1, -3})\n",
    "assert(equation_second_degre(1, 0, 0) == {0})"
   ]
  },
  {
   "cell_type": "code",
   "execution_count": 33,
   "metadata": {},
   "outputs": [
    {
     "name": "stdout",
     "output_type": "stream",
     "text": [
      "3\n"
     ]
    }
   ],
   "source": [
    "# EX 12\n",
    "def occurrence(v, t):\n",
    "    return sum(v == x for x in t)\n",
    "assert(occurrence(1, [1, 2, 3, 1, 1]) == 3)\n",
    "assert(occurrence(\"ka\", [\"ka\", \"ku\", \"aka\", \"ka\"]) == 2)\n"
   ]
  },
  {
   "cell_type": "code",
   "execution_count": 34,
   "metadata": {},
   "outputs": [],
   "source": [
    "# EX 13\n",
    "def tirer_mille_fois():\n",
    "    import random\n",
    "    tire = [random.randint(1, 10) for _ in range(1000)]\n",
    "    el = set(tire)\n",
    "    return {i: occurrence(i, tire) for i in el}"
   ]
  },
  {
   "cell_type": "code",
   "execution_count": 35,
   "metadata": {},
   "outputs": [
    {
     "name": "stdout",
     "output_type": "stream",
     "text": [
      "{1: 83, 2: 105, 3: 95, 4: 121, 5: 97, 6: 111, 7: 119, 8: 85, 9: 94, 10: 90}\n"
     ]
    }
   ],
   "source": [
    "print(tirer_mille_fois())"
   ]
  },
  {
   "cell_type": "code",
   "execution_count": 36,
   "metadata": {},
   "outputs": [],
   "source": [
    "# EX 14\n",
    "def echange(t, i, j):\n",
    "    t[i], t[j] = t[j], t[i]\n",
    "t = [1, 2, 3, 4, 5]\n",
    "echange(t, 0, 1)\n",
    "assert(t == [2, 1, 3, 4, 5])"
   ]
  },
  {
   "cell_type": "code",
   "execution_count": 37,
   "metadata": {},
   "outputs": [],
   "source": [
    "def melange(tab):\n",
    "    import random\n",
    "    for i in range(len(tab)):\n",
    "        echange(tab, i, random.randint(0, i))\n",
    "    return tab"
   ]
  },
  {
   "cell_type": "code",
   "execution_count": 39,
   "metadata": {},
   "outputs": [
    {
     "data": {
      "text/plain": [
       "[10, 6, 8, 7, 9]"
      ]
     },
     "execution_count": 39,
     "metadata": {},
     "output_type": "execute_result"
    }
   ],
   "source": [
    "melange([1, 2, 3, 4, 5])\n",
    "melange([6, 7, 8, 9, 10])"
   ]
  },
  {
   "cell_type": "code",
   "execution_count": 43,
   "metadata": {},
   "outputs": [],
   "source": [
    "# EX 15\n",
    "def hamming(tab1, tab2):\n",
    "    assert(len(tab1) == len(tab2))\n",
    "    return sum(tab1[i] != tab2[i] for i in range(len(tab1)))\n",
    "assert(hamming([1, 2, 3, 4, 5], [1, 2, 3, 4, 5]) == 0)\n",
    "assert(hamming([1, 2, 3, 4, 5], [1, 2, 3, 4, 6]) == 1)\n",
    "assert(hamming([1, 2, 3, 4, 5], [5, 6, 7, 8, 9]) == 5)\n"
   ]
  },
  {
   "cell_type": "code",
   "execution_count": 47,
   "metadata": {},
   "outputs": [],
   "source": [
    "# EX 16\n",
    "def nb_chiffre(n):\n",
    "    if n is None:\n",
    "        return 0\n",
    "    assert(n >= 0)\n",
    "    if n < 10:\n",
    "        return 1\n",
    "    return 1 + nb_chiffre(n//10)\n",
    "assert(nb_chiffre(123) == 3)\n",
    "assert(nb_chiffre(123456789) == 9)\n",
    "assert(nb_chiffre(0) == 1)"
   ]
  },
  {
   "cell_type": "code",
   "execution_count": 50,
   "metadata": {},
   "outputs": [],
   "source": [
    "# EX 17\n",
    "def sous_mot(a, b, tab):\n",
    "    try:\n",
    "        dernier_b_index = tab[::-1].index(b)\n",
    "        premier_a_index = tab.index(a)\n",
    "        return premier_a_index < len(tab)-(dernier_b_index+1)\n",
    "    except ValueError:\n",
    "        return False\n",
    "\n",
    "assert(sous_mot(1, 2, [1, 2, 3, 4, 5]) == True)\n",
    "assert(sous_mot(1, 2, [1, 3, 4, 5, 2]) == True)\n",
    "assert(sous_mot(1, 2, [1, 3, 4, 5, 6]) == False)"
   ]
  },
  {
   "cell_type": "code",
   "execution_count": 10,
   "metadata": {},
   "outputs": [
    {
     "data": {
      "text/plain": [
       "'1'"
      ]
     },
     "execution_count": 10,
     "metadata": {},
     "output_type": "execute_result"
    }
   ],
   "source": []
  },
  {
   "cell_type": "code",
   "execution_count": 22,
   "metadata": {},
   "outputs": [],
   "source": [
    "# EX 18\n",
    "def pgs(e, tab):\n",
    "    is_e = [1 if tab[i] == e else 0 for i in range(len(tab)) ]\n",
    "    str_list = \"\".join(str(i) for i in is_e)\n",
    "    len_tab = [len(i) for i in str_list.split(\"0\")]\n",
    "    return max(len_tab)\n",
    "\n",
    "assert(pgs(1, [1, 1 ,3, 1, 5]) == 2) \n",
    "assert(pgs(1, [1, 2 ,3, 1, 1]) == 2) \n",
    "assert(pgs(0, [1, 2 ,3, 1, 1]) == 0) \n"
   ]
  },
  {
   "cell_type": "code",
   "execution_count": 24,
   "metadata": {},
   "outputs": [],
   "source": [
    "# EX 19\n",
    "def pgpc(tab1, tab2):\n",
    "    res = \"\"\n",
    "    if(len(tab1) < len(tab2)):\n",
    "        l = len(tab1)\n",
    "    else:\n",
    "        l = len(tab2)\n",
    "    for i in range(l):\n",
    "        if tab1[i] == tab2[i]:\n",
    "            res += str(tab1[i])\n",
    "        else:\n",
    "            break\n",
    "    return res\n",
    "assert(pgpc([1, 2, 3, 4, 5], [1, 2, 3, 4, 5, 6]) == \"12345\")\n",
    "assert(pgpc([1, 2, 3, 4, 5], [ 2, 3, 4, 6]) == \"\")\n",
    "assert(pgpc([], [1, 2, 3, 4, 5]) == \"\")"
   ]
  },
  {
   "cell_type": "code",
   "execution_count": 6,
   "metadata": {},
   "outputs": [],
   "source": [
    "# EX 20\n",
    "def tab_multiplication():\n",
    "    for i in range(1, 10):\n",
    "        print(\"Table de\", i, ': ')\n",
    "        for j in range(1, 10):\n",
    "            print(f\"  {i} x {j} = {i*j}\")\n",
    "        print()\n",
    "# tab_multiplication()"
   ]
  },
  {
   "cell_type": "code",
   "execution_count": 20,
   "metadata": {},
   "outputs": [],
   "source": [
    "def max_des_min(tab2d):\n",
    "    assert(len(tab2d) > 0)\n",
    "    for i in range(len(tab2d)):\n",
    "        assert(len(tab2d[i]) > 0)\n",
    "    return max(min(tab) for tab in tab2d)\n",
    "assert(max_des_min([[1, 2, 3], [4, 5, 6], [7, 8, 9]]) == 7)\n",
    "assert(max_des_min([[0,], [0], [0,], [0]]) == 0)"
   ]
  },
  {
   "cell_type": "code",
   "execution_count": 21,
   "metadata": {},
   "outputs": [
    {
     "name": "stdout",
     "output_type": "stream",
     "text": [
      "Move 1 on 3\n",
      "Move 1 on 2\n",
      "Move 3 on 2\n",
      "Move 1 on 3\n",
      "Move 2 on 1\n",
      "Move 2 on 3\n",
      "Move 1 on 3\n"
     ]
    }
   ],
   "source": [
    "# EX 22\n",
    "def hanoi_rec(n: int, depart: int, intermediaire: int, arriver: int):\n",
    "    if n == 1:\n",
    "        print(f\"Move {depart} on {arriver}\")\n",
    "    else:\n",
    "        hanoi_rec(n-1, depart, arriver, intermediaire)\n",
    "        print(f\"Move {depart} on {arriver}\")\n",
    "        hanoi_rec(n-1, intermediaire, depart, arriver)\n",
    "\n",
    "def hanoi(n: int):\n",
    "    hanoi_rec(n, 1, 2, 3)\n",
    "\n",
    "hanoi(3)"
   ]
  },
  {
   "cell_type": "code",
   "execution_count": 18,
   "metadata": {},
   "outputs": [],
   "source": [
    "# EX 23\n",
    "import turtle as tr\n",
    "\n",
    "class Tree:\n",
    "    def __init__(self, data, left=None, middle_left=None, middle_right=None, right=None):\n",
    "        self.data = data\n",
    "        self.left = left\n",
    "        self.middle_left = middle_left\n",
    "        self.middle_right = middle_right\n",
    "        self.right = right\n",
    "\n",
    "def create_root(length: int, level: int):\n",
    "    res = Tree(length)\n",
    "    if level == 0:\n",
    "        return res\n",
    "    else:\n",
    "        res.data = None\n",
    "        length = length/(3**level)\n",
    "        res.left = create_node(length, level-1)\n",
    "        res.middle_left = create_node(length, level-1)\n",
    "        res.middle_right = create_node(length, level-1)\n",
    "        res.right = create_node(length, level-1)\n",
    "        return res\n",
    "\n",
    "def create_node(length, level: int):\n",
    "    res = Tree(length)\n",
    "    if level == 0:\n",
    "        return res\n",
    "    else:\n",
    "        res.data = None\n",
    "        res.left = create_node(length, level-1)\n",
    "        res.middle_left = create_node(length, level-1)\n",
    "        res.middle_right = create_node(length, level-1)\n",
    "        res.right = create_node(length, level-1)\n",
    "        return res\n",
    "\n",
    "def draw_node(node: Tree, t: tr.Turtle):\n",
    "    # None\n",
    "    if node is None:\n",
    "        return\n",
    "    # intern node\n",
    "    if node.data is None:\n",
    "        draw_node(node.left, t)\n",
    "        # turn left\n",
    "        t.left(60)\n",
    "        draw_node(node.middle_left, t)\n",
    "        # turn right\n",
    "        t.right(120)\n",
    "        draw_node(node.middle_right, t)\n",
    "        # turn to original direction\n",
    "        t.left(60)\n",
    "        draw_node(node.right, t)\n",
    "    # leaf\n",
    "    else:\n",
    "        t.forward(node.data)\n",
    "\n",
    "def print_tree(node: Tree, level: int):\n",
    "    if node is None:\n",
    "        return\n",
    "    print(level*'\\t', node.data)\n",
    "    print_tree(node.left, level + 1)\n",
    "    print_tree(node.middle_left, level + 1)\n",
    "    print_tree(node.middle_right, level + 1)\n",
    "    print_tree(node.right, level + 1)\n",
    "\n",
    "def koch(n: int, l: float):\n",
    "    root = create_root(length=l, level=n)\n",
    "    length = l/(3**n)\n",
    "    # print_tree(root, 0)\n",
    "    # setup turtle\n",
    "    canvas = tr.Screen()  \n",
    "    # setup the screen size\n",
    "    # canvas.setup(width=3*l, height=7/2*l)\n",
    "    tr.TurtleScreen._RUNNING=True\n",
    "    t = tr.Turtle()\n",
    "    t.penup()\n",
    "    # t.setpos(-2/3*l, -2/3*l)\n",
    "    t.setx(-l/2)\n",
    "    t.pendown()\n",
    "    draw_node(root, t)\n",
    "    canvas.exitonclick()\n",
    "\n",
    "\n"
   ]
  },
  {
   "cell_type": "code",
   "execution_count": 8,
   "metadata": {},
   "outputs": [],
   "source": [
    "koch(0, 100)\n"
   ]
  },
  {
   "cell_type": "code",
   "execution_count": 9,
   "metadata": {},
   "outputs": [],
   "source": [
    "koch(2, 450)\n"
   ]
  },
  {
   "cell_type": "code",
   "execution_count": 10,
   "metadata": {},
   "outputs": [],
   "source": [
    "koch(3, 2700/10)"
   ]
  },
  {
   "cell_type": "code",
   "execution_count": 19,
   "metadata": {},
   "outputs": [],
   "source": [
    "koch(4, 1000)"
   ]
  },
  {
   "cell_type": "code",
   "execution_count": null,
   "metadata": {},
   "outputs": [],
   "source": []
  }
 ],
 "metadata": {
  "kernelspec": {
   "display_name": "Python 3.10.4 64-bit",
   "language": "python",
   "name": "python3"
  },
  "language_info": {
   "codemirror_mode": {
    "name": "ipython",
    "version": 3
   },
   "file_extension": ".py",
   "mimetype": "text/x-python",
   "name": "python",
   "nbconvert_exporter": "python",
   "pygments_lexer": "ipython3",
   "version": "3.10.4"
  },
  "vscode": {
   "interpreter": {
    "hash": "916dbcbb3f70747c44a77c7bcd40155683ae19c65e1c03b4aa3499c5328201f1"
   }
  }
 },
 "nbformat": 4,
 "nbformat_minor": 2
}
